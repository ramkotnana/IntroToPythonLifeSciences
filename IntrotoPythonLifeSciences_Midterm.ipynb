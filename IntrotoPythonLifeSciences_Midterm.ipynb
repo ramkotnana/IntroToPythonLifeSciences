{
  "nbformat": 4,
  "nbformat_minor": 0,
  "metadata": {
    "colab": {
      "name": "IntrotoPythonLifeSciences Midterm",
      "provenance": []
    },
    "kernelspec": {
      "name": "python3",
      "display_name": "Python 3"
    },
    "language_info": {
      "name": "python"
    }
  },
  "cells": [
    {
      "cell_type": "markdown",
      "source": [
        "Define a function called list_split_and_reverse(a_list) that takes a list as input. If the list is empty, print \"List is empty, fail!\" and return nothing. If the list has an odd number of elements print \"List has odd number of elements, fail!\" and return nothing. Otherwise split the list into two entirely new lists, one containing the first half of the elements, and the other containing the other half. Reverse the back-half/second list (hint: Python has a helpful function to help you with this!) and return both lists."
      ],
      "metadata": {
        "id": "lyn7vMTjAe7O"
      }
    },
    {
      "cell_type": "code",
      "source": [
        "##QUESTION\n",
        ">>> a_list = [0, 2, 3, 7, 10, 20]\n",
        ">>> result = list_split_and_reverse([])\n",
        "Output: List is empty, fail!   # result is also empty/None\n",
        "\n",
        ">>> result = list_split_and_reverse(a_list[:-1])\n",
        "Output: List has odd number of elements, fail! # result is also empty/None\n",
        "\n",
        ">>> result = list_split_and_reverse(a_list)\n",
        ">>> print(result)\n",
        "Output: ([0, 2, 3], [20, 10, 7])\n",
        "\n",
        ">>> result1, result2 = list_split_and_reverse([0, 1, 2, 4])\n",
        ">>> print(result1)\n",
        "Output: [0, 1]\n",
        ">>> print(result2)\n",
        "Output: [4, 2]"
      ],
      "metadata": {
        "id": "6OkTMo6KAnHT"
      },
      "execution_count": null,
      "outputs": []
    },
    {
      "cell_type": "code",
      "source": [
        "##ANSWER\n",
        "#a_list = [0,2,3,7,10,20]\n",
        "#a_list = [0,1,2,4]\n",
        "#a_list = []\n",
        "#a_list =[1,2,3]\n",
        "b_list = a_list[:len(a_list)//2]\n",
        "c_list = a_list[len(a_list)//2:]\n",
        "\n",
        "reversed_clist = c_list.reverse()\n",
        "def list_split_and_reverse(a_list):\n",
        "  if not a_list:\n",
        "    print(\"List is empty, fail!\")\n",
        "  else:\n",
        "    if len(a_list) % 2 == 0:\n",
        "        print(f\"Output: {b_list} , {c_list}\")\n",
        "    else:\n",
        "        print(\"List has odd number of elements, fail!\")\n",
        "list_split_and_reverse(a_list)"
      ],
      "metadata": {
        "id": "7cxR9iskAs0X"
      },
      "execution_count": null,
      "outputs": []
    },
    {
      "cell_type": "markdown",
      "source": [
        "Write a function called factorial that computes the factorial of a given number x passed in as an argument. By default it returns the factorial of 6, which is 720. It also takes a optional boolean argument called 'to_print'. If to_print is True, the factorial value is printed instead of being returned. It is False by default, meaning the result is returned, not printed."
      ],
      "metadata": {
        "id": "KWPZ-GCSA123"
      }
    },
    {
      "cell_type": "code",
      "source": [
        ">>> result = factorial()\n",
        ">>> print(result)\n",
        "Output: 720\n",
        "\n",
        ">>> result = factorial(to_print = True)\n",
        "Output: 720\n",
        ">>> print(result) \n",
        "Output:    # no output\n",
        "\n",
        ">>> result = factorial(4)\n",
        ">>> print(result) \n",
        "Output: 24\n",
        "\n",
        ">>> factorial(4, to_print = True)\n",
        "Output: 24\n",
        ">>> print(result) \n",
        "Output:"
      ],
      "metadata": {
        "id": "1t5hxn10A_FS"
      },
      "execution_count": null,
      "outputs": []
    },
    {
      "cell_type": "code",
      "source": [
        "##ANSWER\n",
        "def factorial(x = 6, to_print = True):\n",
        "  fac = 1\n",
        "  for i in range(1, x + 1):\n",
        "    fac *= i \n",
        "  if to_print == False:\n",
        "    return fac\n",
        "  else:\n",
        "    print(fac)"
      ],
      "metadata": {
        "id": "vWlDgYcJBDi-"
      },
      "execution_count": null,
      "outputs": []
    }
  ]
}